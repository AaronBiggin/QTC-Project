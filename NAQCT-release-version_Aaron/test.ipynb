{
 "cells": [
  {
   "cell_type": "code",
   "execution_count": 1,
   "metadata": {},
   "outputs": [
    {
     "ename": "ModuleNotFoundError",
     "evalue": "No module named 'animation'",
     "output_type": "error",
     "traceback": [
      "\u001b[0;31m---------------------------------------------------------------------------\u001b[0m",
      "\u001b[0;31mModuleNotFoundError\u001b[0m                       Traceback (most recent call last)",
      "Cell \u001b[0;32mIn[1], line 2\u001b[0m\n\u001b[1;32m      1\u001b[0m \u001b[38;5;66;03m# import animator\u001b[39;00m\n\u001b[0;32m----> 2\u001b[0m \u001b[38;5;28;01mfrom\u001b[39;00m \u001b[38;5;21;01manimation\u001b[39;00m \u001b[38;5;28;01mimport\u001b[39;00m Animator\n\u001b[1;32m      4\u001b[0m \u001b[38;5;66;03m# generate animation for qaoa circuit\u001b[39;00m\n\u001b[1;32m      5\u001b[0m Animator(\n\u001b[1;32m      6\u001b[0m         \u001b[38;5;124m\"\u001b[39m\u001b[38;5;124m/Data/qaoa_code_full.json\u001b[39m\u001b[38;5;124m\"\u001b[39m,\n\u001b[1;32m      7\u001b[0m         show_graph\u001b[38;5;241m=\u001b[39m\u001b[38;5;28;01mTrue\u001b[39;00m,\n\u001b[1;32m      8\u001b[0m         edges\u001b[38;5;241m=\u001b[39mgraph_edge_list,\n\u001b[1;32m      9\u001b[0m         \u001b[38;5;28mdir\u001b[39m\u001b[38;5;241m=\u001b[39m\u001b[38;5;124m'\u001b[39m\u001b[38;5;124m./results/animations/\u001b[39m\u001b[38;5;124m'\u001b[39m\n\u001b[1;32m     10\u001b[0m     )\n",
      "\u001b[0;31mModuleNotFoundError\u001b[0m: No module named 'animation'"
     ]
    }
   ],
   "source": [
    "parition\n",
    "[[[4, 3], [4, 3], [4, 2], [4, 2], [3, 2], [4, 1], [3, 2], [4, 1], [3, 1], [4, 0], [3, 1], [4, 0], [2, 1], [3, 0], [2, 1], [3, 0]], [[2, 0], [2, 0], [1, 0], [1, 0], [1, 3], [0, 4], [3, 1], [4, 0], [1, 3], [0, 4]]]\n",
    "embeddings\n",
    "[[(0, 2), (1, 0), (0, 0), (1, 1), (0, 1)], [(0, 1), (0, 2), (0, 0), (1, 1), (1, 0)]]"
   ]
  }
 ],
 "metadata": {
  "kernelspec": {
   "display_name": "Python 3",
   "language": "python",
   "name": "python3"
  },
  "language_info": {
   "codemirror_mode": {
    "name": "ipython",
    "version": 3
   },
   "file_extension": ".py",
   "mimetype": "text/x-python",
   "name": "python",
   "nbconvert_exporter": "python",
   "pygments_lexer": "ipython3",
   "version": "3.9.6"
  }
 },
 "nbformat": 4,
 "nbformat_minor": 2
}
